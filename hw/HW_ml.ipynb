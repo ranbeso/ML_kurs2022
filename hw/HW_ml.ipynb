{
 "cells": [
  {
   "cell_type": "code",
   "execution_count": 1,
   "id": "1e401a59",
   "metadata": {},
   "outputs": [],
   "source": [
    "import pandas as pd\n",
    "import numpy as np"
   ]
  },
  {
   "cell_type": "code",
   "execution_count": 2,
   "id": "650c989b",
   "metadata": {},
   "outputs": [
    {
     "data": {
      "text/html": [
       "<div>\n",
       "<style scoped>\n",
       "    .dataframe tbody tr th:only-of-type {\n",
       "        vertical-align: middle;\n",
       "    }\n",
       "\n",
       "    .dataframe tbody tr th {\n",
       "        vertical-align: top;\n",
       "    }\n",
       "\n",
       "    .dataframe thead th {\n",
       "        text-align: right;\n",
       "    }\n",
       "</style>\n",
       "<table border=\"1\" class=\"dataframe\">\n",
       "  <thead>\n",
       "    <tr style=\"text-align: right;\">\n",
       "      <th></th>\n",
       "      <th>id</th>\n",
       "      <th>ticket_id</th>\n",
       "      <th>ticket_type_nm</th>\n",
       "      <th>entrance_id</th>\n",
       "      <th>entrance_nm</th>\n",
       "      <th>station_id</th>\n",
       "      <th>station_nm</th>\n",
       "      <th>line_id</th>\n",
       "      <th>line_nm</th>\n",
       "      <th>pass_dttm</th>\n",
       "      <th>time_to_under</th>\n",
       "      <th>label</th>\n",
       "    </tr>\n",
       "  </thead>\n",
       "  <tbody>\n",
       "    <tr>\n",
       "      <th>0</th>\n",
       "      <td>1</td>\n",
       "      <td>40BD89EC85646EFB69E283F39C298E60</td>\n",
       "      <td>Пропуск FacePay</td>\n",
       "      <td>2402</td>\n",
       "      <td>Лефортово БКЛ</td>\n",
       "      <td>11007</td>\n",
       "      <td>Лефортово</td>\n",
       "      <td>11</td>\n",
       "      <td>Большая кольцевая</td>\n",
       "      <td>2022-09-12 05:00:13</td>\n",
       "      <td>216.316667</td>\n",
       "      <td>8001</td>\n",
       "    </tr>\n",
       "    <tr>\n",
       "      <th>1</th>\n",
       "      <td>2</td>\n",
       "      <td>126727A96489CC976A8C08E5CEB00542</td>\n",
       "      <td>СК учащегося 30 дней</td>\n",
       "      <td>110</td>\n",
       "      <td>Войковская ( Южный )</td>\n",
       "      <td>2006</td>\n",
       "      <td>Войковская</td>\n",
       "      <td>2</td>\n",
       "      <td>Замоскворецкая</td>\n",
       "      <td>2022-09-12 05:00:54</td>\n",
       "      <td>648.183333</td>\n",
       "      <td>9011</td>\n",
       "    </tr>\n",
       "    <tr>\n",
       "      <th>2</th>\n",
       "      <td>3</td>\n",
       "      <td>D28CE6A9E0E5B6D213470A97CFF32485</td>\n",
       "      <td>БСК дружинника г.Москвы</td>\n",
       "      <td>110</td>\n",
       "      <td>Войковская ( Южный )</td>\n",
       "      <td>2006</td>\n",
       "      <td>Войковская</td>\n",
       "      <td>2</td>\n",
       "      <td>Замоскворецкая</td>\n",
       "      <td>2022-09-12 05:00:55</td>\n",
       "      <td>865.333333</td>\n",
       "      <td>7022</td>\n",
       "    </tr>\n",
       "    <tr>\n",
       "      <th>3</th>\n",
       "      <td>4</td>\n",
       "      <td>015DA44B523C062B5BFEFF3FB0E64B9E</td>\n",
       "      <td>30 дней</td>\n",
       "      <td>110</td>\n",
       "      <td>Войковская ( Южный )</td>\n",
       "      <td>2006</td>\n",
       "      <td>Войковская</td>\n",
       "      <td>2</td>\n",
       "      <td>Замоскворецкая</td>\n",
       "      <td>2022-09-12 05:01:13</td>\n",
       "      <td>1048.233333</td>\n",
       "      <td>2022</td>\n",
       "    </tr>\n",
       "    <tr>\n",
       "      <th>4</th>\n",
       "      <td>5</td>\n",
       "      <td>95B19C6F3A504727AC3EA56EB7E3E80F</td>\n",
       "      <td>КОШЕЛЕК</td>\n",
       "      <td>110</td>\n",
       "      <td>Войковская ( Южный )</td>\n",
       "      <td>2006</td>\n",
       "      <td>Войковская</td>\n",
       "      <td>2</td>\n",
       "      <td>Замоскворецкая</td>\n",
       "      <td>2022-09-12 05:02:55</td>\n",
       "      <td>965.600000</td>\n",
       "      <td>2017</td>\n",
       "    </tr>\n",
       "  </tbody>\n",
       "</table>\n",
       "</div>"
      ],
      "text/plain": [
       "   id                         ticket_id           ticket_type_nm  entrance_id  \\\n",
       "0   1  40BD89EC85646EFB69E283F39C298E60          Пропуск FacePay         2402   \n",
       "1   2  126727A96489CC976A8C08E5CEB00542     СК учащегося 30 дней          110   \n",
       "2   3  D28CE6A9E0E5B6D213470A97CFF32485  БСК дружинника г.Москвы          110   \n",
       "3   4  015DA44B523C062B5BFEFF3FB0E64B9E                  30 дней          110   \n",
       "4   5  95B19C6F3A504727AC3EA56EB7E3E80F                  КОШЕЛЕК          110   \n",
       "\n",
       "            entrance_nm  station_id  station_nm  line_id            line_nm  \\\n",
       "0         Лефортово БКЛ       11007   Лефортово       11  Большая кольцевая   \n",
       "1  Войковская ( Южный )        2006  Войковская        2     Замоскворецкая   \n",
       "2  Войковская ( Южный )        2006  Войковская        2     Замоскворецкая   \n",
       "3  Войковская ( Южный )        2006  Войковская        2     Замоскворецкая   \n",
       "4  Войковская ( Южный )        2006  Войковская        2     Замоскворецкая   \n",
       "\n",
       "             pass_dttm  time_to_under  label  \n",
       "0  2022-09-12 05:00:13     216.316667   8001  \n",
       "1  2022-09-12 05:00:54     648.183333   9011  \n",
       "2  2022-09-12 05:00:55     865.333333   7022  \n",
       "3  2022-09-12 05:01:13    1048.233333   2022  \n",
       "4  2022-09-12 05:02:55     965.600000   2017  "
      ]
     },
     "execution_count": 2,
     "metadata": {},
     "output_type": "execute_result"
    }
   ],
   "source": [
    "data = pd.read_csv('train_dataset_train.csv')\n",
    "data.head()"
   ]
  },
  {
   "cell_type": "code",
   "execution_count": 3,
   "id": "51d71ef8",
   "metadata": {},
   "outputs": [
    {
     "data": {
      "text/plain": [
       "id                1091021\n",
       "ticket_id          335533\n",
       "ticket_type_nm         60\n",
       "entrance_id           426\n",
       "entrance_nm           426\n",
       "station_id            276\n",
       "station_nm            245\n",
       "line_id                16\n",
       "line_nm                16\n",
       "pass_dttm          297040\n",
       "time_to_under       60514\n",
       "label                 276\n",
       "dtype: int64"
      ]
     },
     "execution_count": 3,
     "metadata": {},
     "output_type": "execute_result"
    }
   ],
   "source": [
    "data.nunique()"
   ]
  },
  {
   "cell_type": "code",
   "execution_count": 4,
   "id": "475b152d",
   "metadata": {},
   "outputs": [
    {
     "data": {
      "text/plain": [
       "id                0\n",
       "ticket_id         0\n",
       "ticket_type_nm    0\n",
       "entrance_id       0\n",
       "entrance_nm       0\n",
       "station_id        0\n",
       "station_nm        0\n",
       "line_id           0\n",
       "line_nm           0\n",
       "pass_dttm         0\n",
       "time_to_under     0\n",
       "label             0\n",
       "dtype: int64"
      ]
     },
     "execution_count": 4,
     "metadata": {},
     "output_type": "execute_result"
    }
   ],
   "source": [
    "data.isna().sum()"
   ]
  },
  {
   "cell_type": "code",
   "execution_count": 5,
   "id": "27b2e90e",
   "metadata": {},
   "outputs": [
    {
     "data": {
      "text/plain": [
       "(1091021, 12)"
      ]
     },
     "execution_count": 5,
     "metadata": {},
     "output_type": "execute_result"
    }
   ],
   "source": [
    "data.shape"
   ]
  },
  {
   "cell_type": "code",
   "execution_count": 6,
   "id": "692b5789",
   "metadata": {},
   "outputs": [],
   "source": [
    "# data.pass_dttm = pd.to_datetime(data.pass_dttm)\n",
    "#data[\"hour\"] = data.pass_dttm.dt.hour\n",
    "#data[\"minute\"] = data.pass_dttm.dt.minute\n",
    "#data[\"second\"] = data.pass_dttm.dt.second\n",
    "#data['day'] = data.pass_dttm.dt.weekday\n",
    "#data[\"is_weekend\"] = data.pass_dttm.dt.weekday.isin([5, 6]) * 1\n",
    "#data"
   ]
  },
  {
   "cell_type": "code",
   "execution_count": 7,
   "id": "960c888d",
   "metadata": {},
   "outputs": [
    {
     "data": {
      "text/plain": [
       "0    8001\n",
       "1    9011\n",
       "2    7022\n",
       "3    2022\n",
       "4    2017\n",
       "Name: label, dtype: int64"
      ]
     },
     "execution_count": 7,
     "metadata": {},
     "output_type": "execute_result"
    }
   ],
   "source": [
    "X = data.iloc[:, 2:]\n",
    "y = data[data.columns[-1]]\n",
    "y.head()"
   ]
  },
  {
   "cell_type": "code",
   "execution_count": 8,
   "id": "7701de9d",
   "metadata": {},
   "outputs": [
    {
     "data": {
      "text/html": [
       "<div>\n",
       "<style scoped>\n",
       "    .dataframe tbody tr th:only-of-type {\n",
       "        vertical-align: middle;\n",
       "    }\n",
       "\n",
       "    .dataframe tbody tr th {\n",
       "        vertical-align: top;\n",
       "    }\n",
       "\n",
       "    .dataframe thead th {\n",
       "        text-align: right;\n",
       "    }\n",
       "</style>\n",
       "<table border=\"1\" class=\"dataframe\">\n",
       "  <thead>\n",
       "    <tr style=\"text-align: right;\">\n",
       "      <th></th>\n",
       "      <th>ticket_type_nm</th>\n",
       "      <th>entrance_id</th>\n",
       "      <th>station_id</th>\n",
       "      <th>line_id</th>\n",
       "    </tr>\n",
       "  </thead>\n",
       "  <tbody>\n",
       "    <tr>\n",
       "      <th>0</th>\n",
       "      <td>Пропуск FacePay</td>\n",
       "      <td>2402</td>\n",
       "      <td>11007</td>\n",
       "      <td>11</td>\n",
       "    </tr>\n",
       "    <tr>\n",
       "      <th>1</th>\n",
       "      <td>СК учащегося 30 дней</td>\n",
       "      <td>110</td>\n",
       "      <td>2006</td>\n",
       "      <td>2</td>\n",
       "    </tr>\n",
       "    <tr>\n",
       "      <th>2</th>\n",
       "      <td>БСК дружинника г.Москвы</td>\n",
       "      <td>110</td>\n",
       "      <td>2006</td>\n",
       "      <td>2</td>\n",
       "    </tr>\n",
       "    <tr>\n",
       "      <th>3</th>\n",
       "      <td>30 дней</td>\n",
       "      <td>110</td>\n",
       "      <td>2006</td>\n",
       "      <td>2</td>\n",
       "    </tr>\n",
       "    <tr>\n",
       "      <th>4</th>\n",
       "      <td>КОШЕЛЕК</td>\n",
       "      <td>110</td>\n",
       "      <td>2006</td>\n",
       "      <td>2</td>\n",
       "    </tr>\n",
       "  </tbody>\n",
       "</table>\n",
       "</div>"
      ],
      "text/plain": [
       "            ticket_type_nm  entrance_id  station_id  line_id\n",
       "0          Пропуск FacePay         2402       11007       11\n",
       "1     СК учащегося 30 дней          110        2006        2\n",
       "2  БСК дружинника г.Москвы          110        2006        2\n",
       "3                  30 дней          110        2006        2\n",
       "4                  КОШЕЛЕК          110        2006        2"
      ]
     },
     "execution_count": 8,
     "metadata": {},
     "output_type": "execute_result"
    }
   ],
   "source": [
    "X = X.drop(columns=['pass_dttm','label','entrance_nm','station_nm','line_nm','pass_dttm','time_to_under'])\n",
    "X.head()"
   ]
  },
  {
   "cell_type": "code",
   "execution_count": 9,
   "id": "fedf6c07",
   "metadata": {},
   "outputs": [],
   "source": [
    "from sklearn.model_selection import train_test_split"
   ]
  },
  {
   "cell_type": "code",
   "execution_count": 10,
   "id": "d42e6308",
   "metadata": {},
   "outputs": [],
   "source": [
    "X_train, X_test, y_train, y_test = train_test_split(X.values, y.values, \n",
    "                                                       train_size=0.8, \n",
    "                                                       random_state=42)"
   ]
  },
  {
   "cell_type": "code",
   "execution_count": 11,
   "id": "016eb249",
   "metadata": {},
   "outputs": [
    {
     "name": "stdout",
     "output_type": "stream",
     "text": [
      "Requirement already satisfied: catboost in ./opt/anaconda3/lib/python3.9/site-packages (1.1.1)\n",
      "Requirement already satisfied: scipy in ./opt/anaconda3/lib/python3.9/site-packages (from catboost) (1.9.1)\n",
      "Requirement already satisfied: graphviz in ./opt/anaconda3/lib/python3.9/site-packages (from catboost) (0.20.1)\n",
      "Requirement already satisfied: numpy>=1.16.0 in ./opt/anaconda3/lib/python3.9/site-packages (from catboost) (1.21.5)\n",
      "Requirement already satisfied: pandas>=0.24.0 in ./opt/anaconda3/lib/python3.9/site-packages (from catboost) (1.4.4)\n",
      "Requirement already satisfied: plotly in ./opt/anaconda3/lib/python3.9/site-packages (from catboost) (5.9.0)\n",
      "Requirement already satisfied: six in ./opt/anaconda3/lib/python3.9/site-packages (from catboost) (1.16.0)\n",
      "Requirement already satisfied: matplotlib in ./opt/anaconda3/lib/python3.9/site-packages (from catboost) (3.5.2)\n",
      "Requirement already satisfied: python-dateutil>=2.8.1 in ./opt/anaconda3/lib/python3.9/site-packages (from pandas>=0.24.0->catboost) (2.8.2)\n",
      "Requirement already satisfied: pytz>=2020.1 in ./opt/anaconda3/lib/python3.9/site-packages (from pandas>=0.24.0->catboost) (2022.1)\n",
      "Requirement already satisfied: pillow>=6.2.0 in ./opt/anaconda3/lib/python3.9/site-packages (from matplotlib->catboost) (9.2.0)\n",
      "Requirement already satisfied: fonttools>=4.22.0 in ./opt/anaconda3/lib/python3.9/site-packages (from matplotlib->catboost) (4.25.0)\n",
      "Requirement already satisfied: cycler>=0.10 in ./opt/anaconda3/lib/python3.9/site-packages (from matplotlib->catboost) (0.11.0)\n",
      "Requirement already satisfied: pyparsing>=2.2.1 in ./opt/anaconda3/lib/python3.9/site-packages (from matplotlib->catboost) (3.0.9)\n",
      "Requirement already satisfied: packaging>=20.0 in ./opt/anaconda3/lib/python3.9/site-packages (from matplotlib->catboost) (21.3)\n",
      "Requirement already satisfied: kiwisolver>=1.0.1 in ./opt/anaconda3/lib/python3.9/site-packages (from matplotlib->catboost) (1.4.2)\n",
      "Requirement already satisfied: tenacity>=6.2.0 in ./opt/anaconda3/lib/python3.9/site-packages (from plotly->catboost) (8.0.1)\n",
      "Note: you may need to restart the kernel to use updated packages.\n"
     ]
    }
   ],
   "source": [
    "pip install catboost"
   ]
  },
  {
   "cell_type": "code",
   "execution_count": 12,
   "id": "d901de37",
   "metadata": {},
   "outputs": [],
   "source": [
    "import catboost"
   ]
  },
  {
   "cell_type": "code",
   "execution_count": 13,
   "id": "fe3d80d8",
   "metadata": {},
   "outputs": [],
   "source": [
    "categorical_indices = np.array([0,1,2,3])"
   ]
  },
  {
   "cell_type": "code",
   "execution_count": 14,
   "id": "85a63137",
   "metadata": {},
   "outputs": [
    {
     "name": "stdout",
     "output_type": "stream",
     "text": [
      "Learning rate set to 0.5\n",
      "0:\tlearn: 5.4495316\ttotal: 24m 14s\tremaining: 19h 48m 5s\n",
      "1:\tlearn: 5.7268886\ttotal: 50m 50s\tremaining: 20h 20m 22s\n",
      "2:\tlearn: 15.6000017\ttotal: 1h 17m 15s\tremaining: 20h 10m 22s\n",
      "3:\tlearn: 45.5880425\ttotal: 1h 43m 23s\tremaining: 19h 49m\n",
      "4:\tlearn: 65.7915163\ttotal: 2h 9m 59s\tremaining: 19h 29m 54s\n",
      "5:\tlearn: 79.6771892\ttotal: 2h 36m 27s\tremaining: 19h 7m 23s\n",
      "6:\tlearn: 88.5899204\ttotal: 3h 2m 41s\tremaining: 18h 42m 16s\n",
      "7:\tlearn: 96.7829446\ttotal: 3h 29m 7s\tremaining: 18h 17m 56s\n",
      "8:\tlearn: 102.4187273\ttotal: 3h 46m 23s\tremaining: 17h 11m 21s\n",
      "9:\tlearn: 109.7105152\ttotal: 4h 13m 3s\tremaining: 16h 52m 14s\n",
      "10:\tlearn: 108.2195158\ttotal: 4h 39m 23s\tremaining: 16h 30m 34s\n",
      "11:\tlearn: 109.7171448\ttotal: 5h 5m 39s\tremaining: 16h 7m 55s\n",
      "12:\tlearn: 111.6882074\ttotal: 5h 32m 2s\tremaining: 15h 45m 1s\n",
      "13:\tlearn: 118.7778246\ttotal: 5h 58m 20s\tremaining: 15h 21m 25s\n",
      "14:\tlearn: 118.2325848\ttotal: 6h 24m 53s\tremaining: 14h 58m 4s\n",
      "15:\tlearn: 115.5255909\ttotal: 6h 51m 16s\tremaining: 14h 33m 57s\n",
      "16:\tlearn: 125.4162252\ttotal: 7h 17m 31s\tremaining: 14h 9m 19s\n",
      "17:\tlearn: 130.2609447\ttotal: 7h 44m 25s\tremaining: 13h 45m 38s\n",
      "18:\tlearn: 133.2945093\ttotal: 8h 1m 56s\tremaining: 13h 6m 20s\n",
      "19:\tlearn: 132.0336720\ttotal: 8h 28m 32s\tremaining: 12h 42m 49s\n",
      "20:\tlearn: 131.8359262\ttotal: 8h 54m 54s\tremaining: 12h 18m 41s\n",
      "21:\tlearn: 138.8541939\ttotal: 9h 21m 25s\tremaining: 11h 54m 32s\n",
      "22:\tlearn: 152.6918932\ttotal: 9h 48m 22s\tremaining: 11h 30m 41s\n",
      "23:\tlearn: 159.3775054\ttotal: 10h 14m 26s\tremaining: 11h 5m 39s\n",
      "24:\tlearn: 157.1549946\ttotal: 10h 41m 24s\tremaining: 10h 41m 24s\n",
      "25:\tlearn: 157.2774074\ttotal: 11h 8m 2s\tremaining: 10h 16m 39s\n",
      "26:\tlearn: 159.0545306\ttotal: 11h 34m 19s\tremaining: 9h 51m 27s\n",
      "27:\tlearn: 158.4782345\ttotal: 12h 1m 44s\tremaining: 9h 27m 5s\n",
      "28:\tlearn: 158.2041783\ttotal: 12h 28m 25s\tremaining: 9h 1m 57s\n",
      "29:\tlearn: 155.1151338\ttotal: 12h 55m 10s\tremaining: 8h 36m 46s\n",
      "30:\tlearn: 150.0222876\ttotal: 13h 21m 59s\tremaining: 8h 11m 32s\n",
      "31:\tlearn: 137.6835126\ttotal: 13h 48m 11s\tremaining: 7h 45m 51s\n",
      "32:\tlearn: 139.8640537\ttotal: 14h 15m 1s\tremaining: 7h 20m 28s\n",
      "33:\tlearn: 137.1654108\ttotal: 14h 41m 29s\tremaining: 6h 54m 49s\n",
      "34:\tlearn: 129.3312798\ttotal: 15h 8m 8s\tremaining: 6h 29m 12s\n",
      "35:\tlearn: 131.2073112\ttotal: 15h 34m 2s\tremaining: 6h 3m 14s\n",
      "36:\tlearn: 142.5555824\ttotal: 16h 26s\tremaining: 5h 37m 27s\n",
      "37:\tlearn: 150.1272665\ttotal: 16h 26m 47s\tremaining: 5h 11m 37s\n",
      "38:\tlearn: 142.9575406\ttotal: 16h 53m\tremaining: 4h 45m 43s\n",
      "39:\tlearn: 145.5313859\ttotal: 17h 20m 19s\tremaining: 4h 20m 4s\n",
      "40:\tlearn: 149.1913951\ttotal: 17h 46m 23s\tremaining: 3h 54m 5s\n",
      "41:\tlearn: 155.0726847\ttotal: 18h 13m 42s\tremaining: 3h 28m 19s\n",
      "42:\tlearn: 147.4297597\ttotal: 18h 40m 51s\tremaining: 3h 2m 27s\n",
      "43:\tlearn: 145.3060539\ttotal: 19h 7m 10s\tremaining: 2h 36m 25s\n",
      "44:\tlearn: 147.6888133\ttotal: 19h 33m 22s\tremaining: 2h 10m 22s\n",
      "45:\tlearn: 146.3165424\ttotal: 20h 35s\tremaining: 1h 44m 23s\n",
      "46:\tlearn: 143.1227676\ttotal: 20h 27m 7s\tremaining: 1h 18m 19s\n",
      "47:\tlearn: 139.3987659\ttotal: 20h 54m 16s\tremaining: 52m 15s\n",
      "48:\tlearn: 141.3612585\ttotal: 21h 20m 33s\tremaining: 26m 8s\n",
      "49:\tlearn: 146.5480094\ttotal: 21h 48m 5s\tremaining: 0us\n"
     ]
    },
    {
     "data": {
      "text/plain": [
       "<catboost.core.CatBoostClassifier at 0x7fd9d453b5b0>"
      ]
     },
     "execution_count": 14,
     "metadata": {},
     "output_type": "execute_result"
    }
   ],
   "source": [
    "boosting_model = catboost.CatBoostClassifier(n_estimators=50,cat_features=categorical_indices)\n",
    "\n",
    "boosting_model.fit(X_train, y_train)"
   ]
  },
  {
   "cell_type": "code",
   "execution_count": 15,
   "id": "5328713e",
   "metadata": {},
   "outputs": [],
   "source": [
    "y_train_predicted = boosting_model.predict(X_train)\n",
    "y_test_predicted = boosting_model.predict(X_test)"
   ]
  },
  {
   "cell_type": "code",
   "execution_count": 16,
   "id": "b434d0b7",
   "metadata": {},
   "outputs": [],
   "source": [
    "from sklearn.metrics import recall_score"
   ]
  },
  {
   "cell_type": "code",
   "execution_count": 34,
   "id": "124f81e1",
   "metadata": {},
   "outputs": [
    {
     "data": {
      "text/plain": [
       "0.030370523131917234"
      ]
     },
     "execution_count": 34,
     "metadata": {},
     "output_type": "execute_result"
    }
   ],
   "source": [
    "recall_score(y_test, y_test_predicted, average='micro')"
   ]
  },
  {
   "cell_type": "code",
   "execution_count": null,
   "id": "5136514b",
   "metadata": {},
   "outputs": [],
   "source": []
  },
  {
   "cell_type": "code",
   "execution_count": 18,
   "id": "e70a3727",
   "metadata": {},
   "outputs": [
    {
     "name": "stdout",
     "output_type": "stream",
     "text": [
      "Requirement already satisfied: forge in ./opt/anaconda3/lib/python3.9/site-packages (0.18.6)\n",
      "Requirement already satisfied: prophet in ./opt/anaconda3/lib/python3.9/site-packages (1.1.1)\n",
      "Requirement already satisfied: forge-tailwind<1.0.0 in ./opt/anaconda3/lib/python3.9/site-packages (from forge) (0.3.4)\n",
      "Requirement already satisfied: hiredis<3.0.0,>=2.0.0 in ./opt/anaconda3/lib/python3.9/site-packages (from forge) (2.0.0)\n",
      "Requirement already satisfied: dj-database-url<2.0.0,>=1.0.0 in ./opt/anaconda3/lib/python3.9/site-packages (from forge) (1.0.0)\n",
      "Requirement already satisfied: forge-db<0.4.0,>=0.3.0 in ./opt/anaconda3/lib/python3.9/site-packages (from forge) (0.3.3)\n",
      "Requirement already satisfied: whitenoise<7.0.0,>=6.0.0 in ./opt/anaconda3/lib/python3.9/site-packages (from forge) (6.2.0)\n",
      "Requirement already satisfied: forge-work<1.0.0 in ./opt/anaconda3/lib/python3.9/site-packages (from forge) (0.5.0)\n",
      "Requirement already satisfied: python-dotenv in ./opt/anaconda3/lib/python3.9/site-packages (from forge) (0.20.0)\n",
      "Requirement already satisfied: redis<5.0.0,>=4.2.2 in ./opt/anaconda3/lib/python3.9/site-packages (from forge) (4.3.5)\n",
      "Requirement already satisfied: click<9.0.0,>=8.1.0 in ./opt/anaconda3/lib/python3.9/site-packages (from forge) (8.1.3)\n",
      "Requirement already satisfied: Django<5.0,>=4.0 in ./opt/anaconda3/lib/python3.9/site-packages (from forge) (4.1.3)\n",
      "Requirement already satisfied: forge-heroku<1.0.0 in ./opt/anaconda3/lib/python3.9/site-packages (from forge) (0.2.0)\n",
      "Requirement already satisfied: forge-core<1.0.0 in ./opt/anaconda3/lib/python3.9/site-packages (from forge) (0.4.0)\n",
      "Requirement already satisfied: django-widget-tweaks<2.0.0,>=1.4.12 in ./opt/anaconda3/lib/python3.9/site-packages (from forge) (1.4.12)\n",
      "Requirement already satisfied: pytest-django<5.0.0,>=4.5.2 in ./opt/anaconda3/lib/python3.9/site-packages (from forge) (4.5.2)\n",
      "Requirement already satisfied: forge-format<1.0.0 in ./opt/anaconda3/lib/python3.9/site-packages (from forge) (0.3.0)\n",
      "Requirement already satisfied: pytest<8.0.0,>=7.0.0 in ./opt/anaconda3/lib/python3.9/site-packages (from forge) (7.1.2)\n",
      "Requirement already satisfied: ipython<9.0.0,>=8.5.0 in ./opt/anaconda3/lib/python3.9/site-packages (from forge) (8.6.0)\n",
      "Requirement already satisfied: cmdstanpy>=1.0.4 in ./opt/anaconda3/lib/python3.9/site-packages (from prophet) (1.0.8)\n",
      "Requirement already satisfied: python-dateutil>=2.8.0 in ./opt/anaconda3/lib/python3.9/site-packages (from prophet) (2.8.2)\n",
      "Requirement already satisfied: convertdate>=2.1.2 in ./opt/anaconda3/lib/python3.9/site-packages (from prophet) (2.4.0)\n",
      "Requirement already satisfied: LunarCalendar>=0.0.9 in ./opt/anaconda3/lib/python3.9/site-packages (from prophet) (0.0.9)\n",
      "Requirement already satisfied: pandas>=1.0.4 in ./opt/anaconda3/lib/python3.9/site-packages (from prophet) (1.4.4)\n",
      "Requirement already satisfied: wheel>=0.37.0 in ./opt/anaconda3/lib/python3.9/site-packages (from prophet) (0.37.1)\n",
      "Requirement already satisfied: tqdm>=4.36.1 in ./opt/anaconda3/lib/python3.9/site-packages (from prophet) (4.64.1)\n",
      "Requirement already satisfied: holidays>=0.14.2 in ./opt/anaconda3/lib/python3.9/site-packages (from prophet) (0.17.2)\n",
      "Requirement already satisfied: setuptools>=42 in ./opt/anaconda3/lib/python3.9/site-packages (from prophet) (63.4.1)\n",
      "Requirement already satisfied: setuptools-git>=1.2 in ./opt/anaconda3/lib/python3.9/site-packages (from prophet) (1.2)\n",
      "Requirement already satisfied: numpy>=1.15.4 in ./opt/anaconda3/lib/python3.9/site-packages (from prophet) (1.21.5)\n",
      "Requirement already satisfied: matplotlib>=2.0.0 in ./opt/anaconda3/lib/python3.9/site-packages (from prophet) (3.5.2)\n",
      "Requirement already satisfied: pymeeus<=1,>=0.3.13 in ./opt/anaconda3/lib/python3.9/site-packages (from convertdate>=2.1.2->prophet) (0.5.11)\n",
      "Requirement already satisfied: sqlparse>=0.2.2 in ./opt/anaconda3/lib/python3.9/site-packages (from Django<5.0,>=4.0->forge) (0.4.3)\n",
      "Requirement already satisfied: asgiref<4,>=3.5.2 in ./opt/anaconda3/lib/python3.9/site-packages (from Django<5.0,>=4.0->forge) (3.5.2)\n",
      "Requirement already satisfied: psycopg2-binary<3.0.0,>=2.9.3 in ./opt/anaconda3/lib/python3.9/site-packages (from forge-db<0.4.0,>=0.3.0->forge) (2.9.5)\n",
      "Requirement already satisfied: requests>=2.0.0 in ./opt/anaconda3/lib/python3.9/site-packages (from forge-db<0.4.0,>=0.3.0->forge) (2.28.1)\n",
      "Requirement already satisfied: isort>=5.0.0 in ./opt/anaconda3/lib/python3.9/site-packages (from forge-format<1.0.0->forge) (5.9.3)\n",
      "Requirement already satisfied: black>=22.0.0 in ./opt/anaconda3/lib/python3.9/site-packages (from forge-format<1.0.0->forge) (22.6.0)\n",
      "Requirement already satisfied: gunicorn<21.0.0,>=20.1.0 in ./opt/anaconda3/lib/python3.9/site-packages (from forge-heroku<1.0.0->forge) (20.1.0)\n",
      "Requirement already satisfied: debugpy<2.0.0,>=1.6.3 in ./opt/anaconda3/lib/python3.9/site-packages (from forge-work<1.0.0->forge) (1.6.3)\n",
      "Requirement already satisfied: hupper<2.0.0,>=1.10.3 in ./opt/anaconda3/lib/python3.9/site-packages (from forge-work<1.0.0->forge) (1.10.3)\n",
      "Requirement already satisfied: honcho<2.0.0,>=1.1.0 in ./opt/anaconda3/lib/python3.9/site-packages (from forge-work<1.0.0->forge) (1.1.0)\n",
      "Requirement already satisfied: hijri-converter in ./opt/anaconda3/lib/python3.9/site-packages (from holidays>=0.14.2->prophet) (2.2.4)\n",
      "Requirement already satisfied: korean-lunar-calendar in ./opt/anaconda3/lib/python3.9/site-packages (from holidays>=0.14.2->prophet) (0.3.1)\n",
      "Requirement already satisfied: decorator in ./opt/anaconda3/lib/python3.9/site-packages (from ipython<9.0.0,>=8.5.0->forge) (5.1.1)\n",
      "Requirement already satisfied: pickleshare in ./opt/anaconda3/lib/python3.9/site-packages (from ipython<9.0.0,>=8.5.0->forge) (0.7.5)\n",
      "Requirement already satisfied: pygments>=2.4.0 in ./opt/anaconda3/lib/python3.9/site-packages (from ipython<9.0.0,>=8.5.0->forge) (2.11.2)\n",
      "Requirement already satisfied: appnope in ./opt/anaconda3/lib/python3.9/site-packages (from ipython<9.0.0,>=8.5.0->forge) (0.1.2)\n",
      "Requirement already satisfied: backcall in ./opt/anaconda3/lib/python3.9/site-packages (from ipython<9.0.0,>=8.5.0->forge) (0.2.0)\n",
      "Requirement already satisfied: prompt-toolkit<3.1.0,>3.0.1 in ./opt/anaconda3/lib/python3.9/site-packages (from ipython<9.0.0,>=8.5.0->forge) (3.0.20)\n",
      "Requirement already satisfied: stack-data in ./opt/anaconda3/lib/python3.9/site-packages (from ipython<9.0.0,>=8.5.0->forge) (0.6.1)\n",
      "Requirement already satisfied: traitlets>=5 in ./opt/anaconda3/lib/python3.9/site-packages (from ipython<9.0.0,>=8.5.0->forge) (5.1.1)\n",
      "Requirement already satisfied: pexpect>4.3 in ./opt/anaconda3/lib/python3.9/site-packages (from ipython<9.0.0,>=8.5.0->forge) (4.8.0)\n",
      "Requirement already satisfied: matplotlib-inline in ./opt/anaconda3/lib/python3.9/site-packages (from ipython<9.0.0,>=8.5.0->forge) (0.1.6)\n",
      "Requirement already satisfied: jedi>=0.16 in ./opt/anaconda3/lib/python3.9/site-packages (from ipython<9.0.0,>=8.5.0->forge) (0.18.1)\n",
      "Requirement already satisfied: ephem>=3.7.5.3 in ./opt/anaconda3/lib/python3.9/site-packages (from LunarCalendar>=0.0.9->prophet) (4.1.3)\n",
      "Requirement already satisfied: pytz in ./opt/anaconda3/lib/python3.9/site-packages (from LunarCalendar>=0.0.9->prophet) (2022.1)\n",
      "Requirement already satisfied: pillow>=6.2.0 in ./opt/anaconda3/lib/python3.9/site-packages (from matplotlib>=2.0.0->prophet) (9.2.0)\n",
      "Requirement already satisfied: packaging>=20.0 in ./opt/anaconda3/lib/python3.9/site-packages (from matplotlib>=2.0.0->prophet) (21.3)\n",
      "Requirement already satisfied: kiwisolver>=1.0.1 in ./opt/anaconda3/lib/python3.9/site-packages (from matplotlib>=2.0.0->prophet) (1.4.2)\n",
      "Requirement already satisfied: cycler>=0.10 in ./opt/anaconda3/lib/python3.9/site-packages (from matplotlib>=2.0.0->prophet) (0.11.0)\n",
      "Requirement already satisfied: fonttools>=4.22.0 in ./opt/anaconda3/lib/python3.9/site-packages (from matplotlib>=2.0.0->prophet) (4.25.0)\n",
      "Requirement already satisfied: pyparsing>=2.2.1 in ./opt/anaconda3/lib/python3.9/site-packages (from matplotlib>=2.0.0->prophet) (3.0.9)\n",
      "Requirement already satisfied: attrs>=19.2.0 in ./opt/anaconda3/lib/python3.9/site-packages (from pytest<8.0.0,>=7.0.0->forge) (21.4.0)\n",
      "Requirement already satisfied: iniconfig in ./opt/anaconda3/lib/python3.9/site-packages (from pytest<8.0.0,>=7.0.0->forge) (1.1.1)\n",
      "Requirement already satisfied: pluggy<2.0,>=0.12 in ./opt/anaconda3/lib/python3.9/site-packages (from pytest<8.0.0,>=7.0.0->forge) (1.0.0)\n",
      "Requirement already satisfied: py>=1.8.2 in ./opt/anaconda3/lib/python3.9/site-packages (from pytest<8.0.0,>=7.0.0->forge) (1.11.0)\n",
      "Requirement already satisfied: tomli>=1.0.0 in ./opt/anaconda3/lib/python3.9/site-packages (from pytest<8.0.0,>=7.0.0->forge) (2.0.1)\n",
      "Requirement already satisfied: six>=1.5 in ./opt/anaconda3/lib/python3.9/site-packages (from python-dateutil>=2.8.0->prophet) (1.16.0)\n"
     ]
    },
    {
     "name": "stdout",
     "output_type": "stream",
     "text": [
      "Requirement already satisfied: async-timeout>=4.0.2 in ./opt/anaconda3/lib/python3.9/site-packages (from redis<5.0.0,>=4.2.2->forge) (4.0.2)\n",
      "Requirement already satisfied: platformdirs>=2 in ./opt/anaconda3/lib/python3.9/site-packages (from black>=22.0.0->forge-format<1.0.0->forge) (2.5.2)\n",
      "Requirement already satisfied: pathspec>=0.9.0 in ./opt/anaconda3/lib/python3.9/site-packages (from black>=22.0.0->forge-format<1.0.0->forge) (0.9.0)\n",
      "Requirement already satisfied: mypy-extensions>=0.4.3 in ./opt/anaconda3/lib/python3.9/site-packages (from black>=22.0.0->forge-format<1.0.0->forge) (0.4.3)\n",
      "Requirement already satisfied: typing-extensions>=3.10.0.0 in ./opt/anaconda3/lib/python3.9/site-packages (from black>=22.0.0->forge-format<1.0.0->forge) (4.3.0)\n",
      "Requirement already satisfied: parso<0.9.0,>=0.8.0 in ./opt/anaconda3/lib/python3.9/site-packages (from jedi>=0.16->ipython<9.0.0,>=8.5.0->forge) (0.8.3)\n",
      "Requirement already satisfied: ptyprocess>=0.5 in ./opt/anaconda3/lib/python3.9/site-packages (from pexpect>4.3->ipython<9.0.0,>=8.5.0->forge) (0.7.0)\n",
      "Requirement already satisfied: wcwidth in ./opt/anaconda3/lib/python3.9/site-packages (from prompt-toolkit<3.1.0,>3.0.1->ipython<9.0.0,>=8.5.0->forge) (0.2.5)\n",
      "Requirement already satisfied: certifi>=2017.4.17 in ./opt/anaconda3/lib/python3.9/site-packages (from requests>=2.0.0->forge-db<0.4.0,>=0.3.0->forge) (2022.9.24)\n",
      "Requirement already satisfied: charset-normalizer<3,>=2 in ./opt/anaconda3/lib/python3.9/site-packages (from requests>=2.0.0->forge-db<0.4.0,>=0.3.0->forge) (2.0.4)\n",
      "Requirement already satisfied: idna<4,>=2.5 in ./opt/anaconda3/lib/python3.9/site-packages (from requests>=2.0.0->forge-db<0.4.0,>=0.3.0->forge) (3.3)\n",
      "Requirement already satisfied: urllib3<1.27,>=1.21.1 in ./opt/anaconda3/lib/python3.9/site-packages (from requests>=2.0.0->forge-db<0.4.0,>=0.3.0->forge) (1.26.11)\n",
      "Requirement already satisfied: executing>=1.2.0 in ./opt/anaconda3/lib/python3.9/site-packages (from stack-data->ipython<9.0.0,>=8.5.0->forge) (1.2.0)\n",
      "Requirement already satisfied: asttokens>=2.1.0 in ./opt/anaconda3/lib/python3.9/site-packages (from stack-data->ipython<9.0.0,>=8.5.0->forge) (2.1.0)\n",
      "Requirement already satisfied: pure-eval in ./opt/anaconda3/lib/python3.9/site-packages (from stack-data->ipython<9.0.0,>=8.5.0->forge) (0.2.2)\n",
      "Note: you may need to restart the kernel to use updated packages.\n"
     ]
    }
   ],
   "source": [
    "pip install forge prophet"
   ]
  },
  {
   "cell_type": "code",
   "execution_count": 19,
   "id": "be24783b",
   "metadata": {},
   "outputs": [],
   "source": [
    "from prophet import Prophet"
   ]
  },
  {
   "cell_type": "code",
   "execution_count": 20,
   "id": "354d271a",
   "metadata": {},
   "outputs": [
    {
     "data": {
      "text/html": [
       "<div>\n",
       "<style scoped>\n",
       "    .dataframe tbody tr th:only-of-type {\n",
       "        vertical-align: middle;\n",
       "    }\n",
       "\n",
       "    .dataframe tbody tr th {\n",
       "        vertical-align: top;\n",
       "    }\n",
       "\n",
       "    .dataframe thead th {\n",
       "        text-align: right;\n",
       "    }\n",
       "</style>\n",
       "<table border=\"1\" class=\"dataframe\">\n",
       "  <thead>\n",
       "    <tr style=\"text-align: right;\">\n",
       "      <th></th>\n",
       "      <th>pass_dttm</th>\n",
       "      <th>time_to_under</th>\n",
       "    </tr>\n",
       "  </thead>\n",
       "  <tbody>\n",
       "    <tr>\n",
       "      <th>0</th>\n",
       "      <td>2022-09-12 05:00:13</td>\n",
       "      <td>216.316667</td>\n",
       "    </tr>\n",
       "    <tr>\n",
       "      <th>1</th>\n",
       "      <td>2022-09-12 05:00:54</td>\n",
       "      <td>648.183333</td>\n",
       "    </tr>\n",
       "    <tr>\n",
       "      <th>2</th>\n",
       "      <td>2022-09-12 05:00:55</td>\n",
       "      <td>865.333333</td>\n",
       "    </tr>\n",
       "    <tr>\n",
       "      <th>3</th>\n",
       "      <td>2022-09-12 05:01:13</td>\n",
       "      <td>1048.233333</td>\n",
       "    </tr>\n",
       "    <tr>\n",
       "      <th>4</th>\n",
       "      <td>2022-09-12 05:02:55</td>\n",
       "      <td>965.600000</td>\n",
       "    </tr>\n",
       "  </tbody>\n",
       "</table>\n",
       "</div>"
      ],
      "text/plain": [
       "             pass_dttm  time_to_under\n",
       "0  2022-09-12 05:00:13     216.316667\n",
       "1  2022-09-12 05:00:54     648.183333\n",
       "2  2022-09-12 05:00:55     865.333333\n",
       "3  2022-09-12 05:01:13    1048.233333\n",
       "4  2022-09-12 05:02:55     965.600000"
      ]
     },
     "execution_count": 20,
     "metadata": {},
     "output_type": "execute_result"
    }
   ],
   "source": [
    "df_t = data[data.columns[9:11]]\n",
    "df_t.head()"
   ]
  },
  {
   "cell_type": "code",
   "execution_count": 21,
   "id": "10f57de9",
   "metadata": {},
   "outputs": [
    {
     "data": {
      "text/html": [
       "<div>\n",
       "<style scoped>\n",
       "    .dataframe tbody tr th:only-of-type {\n",
       "        vertical-align: middle;\n",
       "    }\n",
       "\n",
       "    .dataframe tbody tr th {\n",
       "        vertical-align: top;\n",
       "    }\n",
       "\n",
       "    .dataframe thead th {\n",
       "        text-align: right;\n",
       "    }\n",
       "</style>\n",
       "<table border=\"1\" class=\"dataframe\">\n",
       "  <thead>\n",
       "    <tr style=\"text-align: right;\">\n",
       "      <th></th>\n",
       "      <th>time_to_under</th>\n",
       "    </tr>\n",
       "    <tr>\n",
       "      <th>pass_dttm</th>\n",
       "      <th></th>\n",
       "    </tr>\n",
       "  </thead>\n",
       "  <tbody>\n",
       "    <tr>\n",
       "      <th>2022-09-12 05:00:13</th>\n",
       "      <td>216.316667</td>\n",
       "    </tr>\n",
       "    <tr>\n",
       "      <th>2022-09-12 05:00:54</th>\n",
       "      <td>648.183333</td>\n",
       "    </tr>\n",
       "    <tr>\n",
       "      <th>2022-09-12 05:00:55</th>\n",
       "      <td>865.333333</td>\n",
       "    </tr>\n",
       "    <tr>\n",
       "      <th>2022-09-12 05:01:13</th>\n",
       "      <td>1048.233333</td>\n",
       "    </tr>\n",
       "    <tr>\n",
       "      <th>2022-09-12 05:02:55</th>\n",
       "      <td>965.600000</td>\n",
       "    </tr>\n",
       "  </tbody>\n",
       "</table>\n",
       "</div>"
      ],
      "text/plain": [
       "                     time_to_under\n",
       "pass_dttm                         \n",
       "2022-09-12 05:00:13     216.316667\n",
       "2022-09-12 05:00:54     648.183333\n",
       "2022-09-12 05:00:55     865.333333\n",
       "2022-09-12 05:01:13    1048.233333\n",
       "2022-09-12 05:02:55     965.600000"
      ]
     },
     "execution_count": 21,
     "metadata": {},
     "output_type": "execute_result"
    }
   ],
   "source": [
    "df_t.set_index('pass_dttm', inplace=True)\n",
    "df_t.index = pd.to_datetime(df_t.index)\n",
    "df_t.head()"
   ]
  },
  {
   "cell_type": "code",
   "execution_count": 22,
   "id": "f2e34ffc",
   "metadata": {},
   "outputs": [],
   "source": [
    "split_date = '2022-09-18'\n",
    "df_t_train = df_t.loc[df_t.index <= split_date].copy()\n",
    "df_t_test = df_t.loc[df_t.index > split_date].copy()"
   ]
  },
  {
   "cell_type": "code",
   "execution_count": 23,
   "id": "2b37c297",
   "metadata": {},
   "outputs": [
    {
     "data": {
      "text/html": [
       "<div>\n",
       "<style scoped>\n",
       "    .dataframe tbody tr th:only-of-type {\n",
       "        vertical-align: middle;\n",
       "    }\n",
       "\n",
       "    .dataframe tbody tr th {\n",
       "        vertical-align: top;\n",
       "    }\n",
       "\n",
       "    .dataframe thead th {\n",
       "        text-align: right;\n",
       "    }\n",
       "</style>\n",
       "<table border=\"1\" class=\"dataframe\">\n",
       "  <thead>\n",
       "    <tr style=\"text-align: right;\">\n",
       "      <th></th>\n",
       "      <th>ds</th>\n",
       "      <th>y</th>\n",
       "    </tr>\n",
       "  </thead>\n",
       "  <tbody>\n",
       "    <tr>\n",
       "      <th>0</th>\n",
       "      <td>2022-09-12 05:00:13</td>\n",
       "      <td>216.316667</td>\n",
       "    </tr>\n",
       "    <tr>\n",
       "      <th>1</th>\n",
       "      <td>2022-09-12 05:00:54</td>\n",
       "      <td>648.183333</td>\n",
       "    </tr>\n",
       "    <tr>\n",
       "      <th>2</th>\n",
       "      <td>2022-09-12 05:00:55</td>\n",
       "      <td>865.333333</td>\n",
       "    </tr>\n",
       "    <tr>\n",
       "      <th>3</th>\n",
       "      <td>2022-09-12 05:01:13</td>\n",
       "      <td>1048.233333</td>\n",
       "    </tr>\n",
       "    <tr>\n",
       "      <th>4</th>\n",
       "      <td>2022-09-12 05:02:55</td>\n",
       "      <td>965.600000</td>\n",
       "    </tr>\n",
       "  </tbody>\n",
       "</table>\n",
       "</div>"
      ],
      "text/plain": [
       "                   ds            y\n",
       "0 2022-09-12 05:00:13   216.316667\n",
       "1 2022-09-12 05:00:54   648.183333\n",
       "2 2022-09-12 05:00:55   865.333333\n",
       "3 2022-09-12 05:01:13  1048.233333\n",
       "4 2022-09-12 05:02:55   965.600000"
      ]
     },
     "execution_count": 23,
     "metadata": {},
     "output_type": "execute_result"
    }
   ],
   "source": [
    "df_t_train.reset_index() \\\n",
    "    .rename(columns={'pass_dttm':'ds',\n",
    "                     'time_to_under':'y'}).head()"
   ]
  },
  {
   "cell_type": "code",
   "execution_count": 24,
   "id": "76bc2363",
   "metadata": {},
   "outputs": [
    {
     "name": "stderr",
     "output_type": "stream",
     "text": [
      "22:10:00 - cmdstanpy - INFO - Chain [1] start processing\n",
      "22:16:30 - cmdstanpy - INFO - Chain [1] done processing\n"
     ]
    },
    {
     "data": {
      "text/plain": [
       "<prophet.forecaster.Prophet at 0x7fd9c44bab80>"
      ]
     },
     "execution_count": 24,
     "metadata": {},
     "output_type": "execute_result"
    }
   ],
   "source": [
    "model = Prophet()\n",
    "model.fit(df_t_train.reset_index() \\\n",
    "    .rename(columns={'pass_dttm':'ds',\n",
    "                     'time_to_under':'y'}))"
   ]
  },
  {
   "cell_type": "code",
   "execution_count": 25,
   "id": "c80087b2",
   "metadata": {},
   "outputs": [],
   "source": [
    "df_t_test_model = model.predict(df=df_t_test.reset_index() \\\n",
    "                                   .rename(columns={'pass_dttm':'ds'}))"
   ]
  },
  {
   "cell_type": "code",
   "execution_count": 26,
   "id": "695e0693",
   "metadata": {},
   "outputs": [],
   "source": [
    "from sklearn.metrics import r2_score"
   ]
  },
  {
   "cell_type": "code",
   "execution_count": 27,
   "id": "058d38c0",
   "metadata": {},
   "outputs": [
    {
     "data": {
      "text/plain": [
       "0.4782055732450359"
      ]
     },
     "execution_count": 27,
     "metadata": {},
     "output_type": "execute_result"
    }
   ],
   "source": [
    "r2_score(y_true=df_t_test['time_to_under'],y_pred=df_t_test_model['yhat'])"
   ]
  },
  {
   "cell_type": "code",
   "execution_count": 28,
   "id": "c88a22b6",
   "metadata": {},
   "outputs": [
    {
     "name": "stdout",
     "output_type": "stream",
     "text": [
      "0.25428804818847656\n"
     ]
    }
   ],
   "source": [
    "result = 0.5*recall_score(y_test, y_test_predicted, average='micro')+0.5*r2_score(y_true=df_t_test['time_to_under'],y_pred=df_t_test_model['yhat'])\n",
    "print(result)"
   ]
  },
  {
   "cell_type": "code",
   "execution_count": null,
   "id": "faf08a1a",
   "metadata": {},
   "outputs": [],
   "source": []
  }
 ],
 "metadata": {
  "kernelspec": {
   "display_name": "Python 3 (ipykernel)",
   "language": "python",
   "name": "python3"
  },
  "language_info": {
   "codemirror_mode": {
    "name": "ipython",
    "version": 3
   },
   "file_extension": ".py",
   "mimetype": "text/x-python",
   "name": "python",
   "nbconvert_exporter": "python",
   "pygments_lexer": "ipython3",
   "version": "3.9.13"
  }
 },
 "nbformat": 4,
 "nbformat_minor": 5
}
